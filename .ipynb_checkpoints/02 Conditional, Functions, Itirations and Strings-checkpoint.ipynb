{
 "cells": [
  {
   "cell_type": "markdown",
   "metadata": {},
   "source": [
    "# Conditional, Functions, Itirations and Strings\n",
    "## In this session we will cover the following:\n",
    "### 1 If else Statements\n",
    "### 2 Functions\n",
    "### 3 For and While Loops\n",
    "### 4 String Class and its methods"
   ]
  },
  {
   "cell_type": "code",
   "execution_count": null,
   "metadata": {},
   "outputs": [],
   "source": [
    "# If else statements\n",
    "\n",
    "#number = int(input(\"Enter a number: \"))\n",
    "# IF the number entered by the user is odd or even!\n",
    "\n",
    "if number % 2 == 0:\n",
    "    # = is assignment operator\n",
    "    # == comparison operator\n",
    "    print(\"The number is even.\")\n",
    "else:\n",
    "    print(\"The number is odd.\")\n"
   ]
  },
  {
   "cell_type": "code",
   "execution_count": null,
   "metadata": {},
   "outputs": [],
   "source": [
    "print(4 % 2 == 0)"
   ]
  },
  {
   "cell_type": "code",
   "execution_count": null,
   "metadata": {},
   "outputs": [],
   "source": [
    "# If elif else\n",
    "# We want to check if the number is in between 100 and 1000 or more or less than 100 or 1000\n",
    "#number = int(input(\"Enter a number: \"))\n",
    "\n",
    "if number < 100:\n",
    "    print(\"Number is less than 100\")\n",
    "    print(\"Hello\")\n",
    "elif number > 100 and number < 1000:\n",
    "    print(\"Number is between 100 and 1000\")\n",
    "elif number < 2000:\n",
    "    print(\"Number is greater than 1000 and less than 2000.\")"
   ]
  },
  {
   "cell_type": "markdown",
   "metadata": {},
   "source": [
    "AND Logic\n",
    "\n",
    "0 0 = 0\n",
    "\n",
    "0 1 = 0\n",
    "\n",
    "1 0 = 0\n",
    "\n",
    "1 1 = 1"
   ]
  },
  {
   "cell_type": "code",
   "execution_count": null,
   "metadata": {},
   "outputs": [],
   "source": [
    "x = 5\n",
    "\n",
    "if x == 5:\n",
    "    print(\"x is = 5\")\n",
    "\n",
    "if x > 2:\n",
    "    print(\"x is greater than 2\")\n",
    "\n",
    "if x >= 5:\n",
    "    print(\"x is greater than or equal to 5.\")"
   ]
  },
  {
   "cell_type": "markdown",
   "metadata": {},
   "source": [
    "# Write a program that takes input from a user and prints out if the number is in between 200 and 300."
   ]
  },
  {
   "cell_type": "markdown",
   "metadata": {},
   "source": [
    "## Nested If Else"
   ]
  },
  {
   "cell_type": "code",
   "execution_count": null,
   "metadata": {},
   "outputs": [],
   "source": [
    "number = 1\n",
    "\n",
    "if number < 6:\n",
    "    if number == 5:\n",
    "        print(\"Number is equal to 5\")\n",
    "    else:\n",
    "        if number > 2:\n",
    "            print(\"number is greater than 2 and less than 5\")\n",
    "        else:\n",
    "            print(\"Number not greater than 2 and less than 5\")\n",
    "else:\n",
    "    print(\"Number is not less than 6\")"
   ]
  },
  {
   "cell_type": "markdown",
   "metadata": {},
   "source": [
    "# Functions"
   ]
  },
  {
   "cell_type": "code",
   "execution_count": null,
   "metadata": {},
   "outputs": [],
   "source": [
    "# Function is a piece of reusable code\n",
    "def is_even(number):\n",
    "    if number % 2 == 0:\n",
    "        print(\"The number is even\")\n",
    "    else:\n",
    "        print(\"The number is False\")\n",
    "# This function return nothing"
   ]
  },
  {
   "cell_type": "code",
   "execution_count": null,
   "metadata": {},
   "outputs": [],
   "source": [
    "x = 4\n",
    "is_even(x)"
   ]
  },
  {
   "cell_type": "code",
   "execution_count": null,
   "metadata": {},
   "outputs": [],
   "source": [
    "# Functions can return\n",
    "def is_even_bool(number):\n",
    "    if number % 2 == 0:\n",
    "        return True\n",
    "    else:\n",
    "        return False"
   ]
  },
  {
   "cell_type": "code",
   "execution_count": null,
   "metadata": {},
   "outputs": [],
   "source": [
    "number = 2\n",
    "print(is_even_bool(number))"
   ]
  },
  {
   "cell_type": "code",
   "execution_count": null,
   "metadata": {},
   "outputs": [],
   "source": [
    "# The remainder is zero or not (diving by 2)\n",
    "y = 10\n",
    "\n",
    "if is_even_bool(y):\n",
    "    print(\"The remainder is zero.\")\n",
    "else:\n",
    "    print(\"The remainder is not zero.\")\n",
    "\n"
   ]
  },
  {
   "cell_type": "code",
   "execution_count": null,
   "metadata": {},
   "outputs": [],
   "source": [
    "def addition(num1, num2):\n",
    "    addition_ = num1 + num2\n",
    "    print(addition_)\n",
    "    return addition_"
   ]
  },
  {
   "cell_type": "code",
   "execution_count": null,
   "metadata": {},
   "outputs": [],
   "source": [
    "x = 5\n",
    "y = 1\n",
    "\n",
    "#print(addition(x,y))\n",
    "sum1 = addition(x, y)"
   ]
  },
  {
   "cell_type": "markdown",
   "metadata": {},
   "source": [
    "# Write a function that takes 2 numbers: and returns first number to the power of second number\n",
    "\n",
    "## rasied to the power in python is: **\n",
    "\n",
    "print the result"
   ]
  },
  {
   "cell_type": "code",
   "execution_count": null,
   "metadata": {},
   "outputs": [],
   "source": [
    "def raised(num1, num2):\n",
    "    return num1 ** num2"
   ]
  },
  {
   "cell_type": "code",
   "execution_count": null,
   "metadata": {},
   "outputs": [],
   "source": [
    "raised(3,4)"
   ]
  },
  {
   "cell_type": "code",
   "execution_count": null,
   "metadata": {},
   "outputs": [],
   "source": [
    "def print_hello():\n",
    "    print(\"Hello! How are you? \\nWhats going on! \\nI hope you're enjoying the workshop\")\n",
    "\n",
    "print_hello()"
   ]
  },
  {
   "cell_type": "markdown",
   "metadata": {},
   "source": [
    "# Control Flow"
   ]
  },
  {
   "cell_type": "code",
   "execution_count": null,
   "metadata": {},
   "outputs": [],
   "source": [
    "# For loops\n",
    "# While loops"
   ]
  },
  {
   "cell_type": "code",
   "execution_count": null,
   "metadata": {},
   "outputs": [],
   "source": [
    "# Wew want to run a for loop 10 times\n",
    "# print from 0 to 9\n",
    "\n",
    "# 0, 1, 2, 3 ,4 .. 9\n",
    "# range starts from 0\n",
    "# and ends before the number eneter\n",
    "\n",
    "for i in range(10):\n",
    "    print(i)"
   ]
  },
  {
   "cell_type": "code",
   "execution_count": null,
   "metadata": {},
   "outputs": [],
   "source": [
    "# 0 to 10\n",
    "for i in range(11):\n",
    "    print(i)"
   ]
  },
  {
   "cell_type": "code",
   "execution_count": null,
   "metadata": {},
   "outputs": [],
   "source": [
    "# Increaments of 2\n",
    "for i in range(0, 11):\n",
    "    x = i * \" #\"\n",
    "    print(x)"
   ]
  },
  {
   "cell_type": "code",
   "execution_count": null,
   "metadata": {},
   "outputs": [],
   "source": [
    "# reverse range"
   ]
  },
  {
   "cell_type": "code",
   "execution_count": null,
   "metadata": {},
   "outputs": [],
   "source": [
    "for i in range(10, 0, -1):\n",
    "    x = i * \" #\"\n",
    "    print(x)"
   ]
  },
  {
   "cell_type": "markdown",
   "metadata": {},
   "source": [
    "# sum of first ten numbers\n",
    "sum_ = 0\n",
    "for i in range(1,11):\n",
    "    print(\"{} + {}\".format(sum_, i))\n",
    "    sum_ = sum_ + i\n",
    "    \n",
    "print(sum_)"
   ]
  },
  {
   "cell_type": "markdown",
   "metadata": {},
   "source": [
    "### Factorial"
   ]
  },
  {
   "cell_type": "code",
   "execution_count": null,
   "metadata": {},
   "outputs": [],
   "source": [
    "number = 20\n",
    "fact = 1\n",
    "#for i in range(10, 0, -1):\n",
    "for i in range(number, 0, -1):\n",
    "    fact = fact * i\n",
    "    #print(fact)\n"
   ]
  },
  {
   "cell_type": "markdown",
   "metadata": {},
   "source": [
    "# Write a function which takes a number (integer) and return its factorial\n",
    "\n",
    "## fact(number)"
   ]
  },
  {
   "cell_type": "code",
   "execution_count": null,
   "metadata": {},
   "outputs": [],
   "source": [
    "# Scope of a variable\n",
    "# Global scope\n",
    "# Local Scope"
   ]
  },
  {
   "cell_type": "code",
   "execution_count": null,
   "metadata": {},
   "outputs": [],
   "source": [
    "x = 10  # Global Variable\n",
    "fact = 1\n",
    "def summ(z):\n",
    "    pqr = 3\n",
    "    return z + y + x"
   ]
  },
  {
   "cell_type": "code",
   "execution_count": null,
   "metadata": {},
   "outputs": [],
   "source": [
    "z = 13\n",
    "summ(z)"
   ]
  },
  {
   "cell_type": "code",
   "execution_count": null,
   "metadata": {},
   "outputs": [],
   "source": [
    "def factorial(num1):\n",
    "    #global fact\n",
    "    fact = 1\n",
    "    for i in range(num1, 0, -1):\n",
    "        fact = fact * i\n",
    "    return fact    "
   ]
  },
  {
   "cell_type": "code",
   "execution_count": null,
   "metadata": {},
   "outputs": [],
   "source": [
    "factorial(10)"
   ]
  },
  {
   "cell_type": "markdown",
   "metadata": {},
   "source": [
    "### While"
   ]
  },
  {
   "cell_type": "code",
   "execution_count": 4,
   "metadata": {},
   "outputs": [
    {
     "name": "stdout",
     "output_type": "stream",
     "text": [
      "Hello\n",
      "Hello\n",
      "Hello\n",
      "Hello\n",
      "Hello\n",
      "Hello\n",
      "Hello\n",
      "Hello\n",
      "Hello\n",
      "Hello\n"
     ]
    }
   ],
   "source": [
    "# Run the while loop 10 times\n",
    "itr = 1\n",
    "while True:\n",
    "    if itr > 10:\n",
    "        break\n",
    "    print(\"Hello\")\n",
    "    itr = itr + 1"
   ]
  },
  {
   "cell_type": "code",
   "execution_count": 9,
   "metadata": {},
   "outputs": [
    {
     "name": "stdout",
     "output_type": "stream",
     "text": [
      "Hello  0\n",
      "Hello  1\n",
      "Hello  2\n",
      "Hello  3\n",
      "Hello  4\n",
      "Hello  5\n",
      "Hello  6\n",
      "Hello  7\n",
      "Hello  8\n",
      "Hello  9\n",
      "While loop stopped\n"
     ]
    }
   ],
   "source": [
    "itr = 0\n",
    "while itr < 10:\n",
    "    print(\"Hello \", itr)\n",
    "    itr = itr + 1\n",
    "print(\"While loop stopped\")"
   ]
  },
  {
   "cell_type": "markdown",
   "metadata": {},
   "source": [
    "### Question: Write a While loop factorial function that returns factorial of a number\n",
    "\n",
    "## fact_while(num)"
   ]
  },
  {
   "cell_type": "code",
   "execution_count": null,
   "metadata": {},
   "outputs": [],
   "source": []
  },
  {
   "cell_type": "code",
   "execution_count": null,
   "metadata": {},
   "outputs": [],
   "source": []
  },
  {
   "cell_type": "code",
   "execution_count": null,
   "metadata": {},
   "outputs": [],
   "source": []
  },
  {
   "cell_type": "code",
   "execution_count": null,
   "metadata": {},
   "outputs": [],
   "source": []
  },
  {
   "cell_type": "code",
   "execution_count": null,
   "metadata": {},
   "outputs": [],
   "source": []
  },
  {
   "cell_type": "code",
   "execution_count": null,
   "metadata": {},
   "outputs": [],
   "source": []
  }
 ],
 "metadata": {
  "kernelspec": {
   "display_name": "Python 3",
   "language": "python",
   "name": "python3"
  },
  "language_info": {
   "codemirror_mode": {
    "name": "ipython",
    "version": 3
   },
   "file_extension": ".py",
   "mimetype": "text/x-python",
   "name": "python",
   "nbconvert_exporter": "python",
   "pygments_lexer": "ipython3",
   "version": "3.8.3"
  }
 },
 "nbformat": 4,
 "nbformat_minor": 4
}
