{
 "cells": [
  {
   "cell_type": "markdown",
   "metadata": {
    "id": "qB_WQD25Wkla"
   },
   "source": [
    "<h1>String Operations</h1>"
   ]
  },
  {
   "cell_type": "markdown",
   "metadata": {
    "id": "ZJsfrz2NWkld"
   },
   "source": [
    "<p><strong>Welcome!</strong> This notebook will teach you about the string operations in the Python Programming Language. By the end of this notebook, you'll know the basics string operations in Python, including indexing, escape sequences and operations.</p> "
   ]
  },
  {
   "cell_type": "markdown",
   "metadata": {
    "id": "2QcueZkVWkld"
   },
   "source": [
    "<h2>Table of Contents</h2>\n",
    "<div class=\"alert alert-block alert-info\" style=\"margin-top: 20px\">\n",
    "    <ul>\n",
    "        <li>\n",
    "            <a href=\"#strings\">What are Strings?</a>\n",
    "        </li>\n",
    "        <li>\n",
    "            <a href=\"#index\">Indexing</a>\n",
    "            <ul>\n",
    "                <li><a href=\"neg\">Negative Indexing</a></li>\n",
    "                <li><a href=\"slice\">Slicing</a></li>\n",
    "                <li><a href=\"stride\">Stride</a></li>\n",
    "                <li><a href=\"concat\">Concatenate Strings</a></li>\n",
    "            </ul>\n",
    "        </li>\n",
    "        <li>\n",
    "            <a href=\"#escape\">Escape Sequences</a>\n",
    "        </li>\n",
    "        <li>\n",
    "            <a href=\"#operations\">String Operations</a>\n",
    "        </li>\n",
    "        <li>\n",
    "            <a href=\"#quiz\">Quiz on Strings</a>\n",
    "        </li>\n",
    "    </ul>\n",
    "    <p>\n",
    "        Estimated time needed: <strong>15 min</strong>\n",
    "    </p>\n",
    "</div>\n",
    "\n",
    "<hr>"
   ]
  },
  {
   "cell_type": "markdown",
   "metadata": {
    "id": "mzRuaQr2Wkle"
   },
   "source": [
    "<h2 id=\"strings\">What are Strings?</h2>"
   ]
  },
  {
   "cell_type": "markdown",
   "metadata": {
    "id": "z2K5fUJIWkle"
   },
   "source": [
    "The following example shows a string contained within 2 quotation marks:"
   ]
  },
  {
   "cell_type": "code",
   "execution_count": null,
   "metadata": {
    "colab": {
     "base_uri": "https://localhost:8080/"
    },
    "executionInfo": {
     "elapsed": 282,
     "status": "ok",
     "timestamp": 1625651215511,
     "user": {
      "displayName": "Ibad Rather",
      "photoUrl": "https://lh3.googleusercontent.com/a-/AOh14GgrW0WL8_uTTQEvlV_IJ4oBk0MUo3vGvuZEM8Pz=s64",
      "userId": "02083681240167841387"
     },
     "user_tz": -120
    },
    "id": "Rl2I1irzWkle",
    "jupyter": {
     "outputs_hidden": false
    },
    "outputId": "009bd296-c7c2-4a98-8fd1-c98f63d281b9"
   },
   "outputs": [
    {
     "name": "stdout",
     "output_type": "stream",
     "text": [
      "Michael Jackson\n"
     ]
    }
   ],
   "source": [
    "# Use quotation marks for defining string\n",
    "\n",
    "name = \"Michael Jackson\"\n",
    "print(name)"
   ]
  },
  {
   "cell_type": "markdown",
   "metadata": {
    "id": "8ZgRqIdxWklf"
   },
   "source": [
    "We can also use single quotation marks:"
   ]
  },
  {
   "cell_type": "code",
   "execution_count": null,
   "metadata": {
    "colab": {
     "base_uri": "https://localhost:8080/",
     "height": 35
    },
    "executionInfo": {
     "elapsed": 297,
     "status": "ok",
     "timestamp": 1625651251252,
     "user": {
      "displayName": "Ibad Rather",
      "photoUrl": "https://lh3.googleusercontent.com/a-/AOh14GgrW0WL8_uTTQEvlV_IJ4oBk0MUo3vGvuZEM8Pz=s64",
      "userId": "02083681240167841387"
     },
     "user_tz": -120
    },
    "id": "5okCtwv6Wklg",
    "jupyter": {
     "outputs_hidden": false
    },
    "outputId": "686bbaf3-a258-4795-c974-cddec6163a83"
   },
   "outputs": [
    {
     "data": {
      "application/vnd.google.colaboratory.intrinsic+json": {
       "type": "string"
      },
      "text/plain": [
       "'Michael Jackson'"
      ]
     },
     "execution_count": 7,
     "metadata": {
      "tags": []
     },
     "output_type": "execute_result"
    }
   ],
   "source": [
    "# Use single quotation marks for defining string\n",
    "\n",
    "'Michael Jackson'"
   ]
  },
  {
   "cell_type": "markdown",
   "metadata": {
    "id": "6PcqUXuxWklg"
   },
   "source": [
    "A string can be a combination of spaces and digits: "
   ]
  },
  {
   "cell_type": "code",
   "execution_count": null,
   "metadata": {
    "colab": {
     "base_uri": "https://localhost:8080/"
    },
    "executionInfo": {
     "elapsed": 305,
     "status": "ok",
     "timestamp": 1625651296553,
     "user": {
      "displayName": "Ibad Rather",
      "photoUrl": "https://lh3.googleusercontent.com/a-/AOh14GgrW0WL8_uTTQEvlV_IJ4oBk0MUo3vGvuZEM8Pz=s64",
      "userId": "02083681240167841387"
     },
     "user_tz": -120
    },
    "id": "ENHehc90Wklh",
    "jupyter": {
     "outputs_hidden": false
    },
    "outputId": "73890daf-106b-4299-cdd3-ac80ed285c02"
   },
   "outputs": [
    {
     "name": "stdout",
     "output_type": "stream",
     "text": [
      "<class 'str'>\n"
     ]
    }
   ],
   "source": [
    "# Digitals and spaces in string\n",
    "\n",
    "numbers = '1 2 3 4 5 6 '\n",
    "print(type(numbers))"
   ]
  },
  {
   "cell_type": "markdown",
   "metadata": {
    "id": "rxWJT5XlWklh"
   },
   "source": [
    "A string can also be a combination of special characters : "
   ]
  },
  {
   "cell_type": "code",
   "execution_count": null,
   "metadata": {
    "colab": {
     "base_uri": "https://localhost:8080/",
     "height": 35
    },
    "executionInfo": {
     "elapsed": 289,
     "status": "ok",
     "timestamp": 1625651383166,
     "user": {
      "displayName": "Ibad Rather",
      "photoUrl": "https://lh3.googleusercontent.com/a-/AOh14GgrW0WL8_uTTQEvlV_IJ4oBk0MUo3vGvuZEM8Pz=s64",
      "userId": "02083681240167841387"
     },
     "user_tz": -120
    },
    "id": "h3Acb2pUWklh",
    "jupyter": {
     "outputs_hidden": false
    },
    "outputId": "5ad92541-7e1a-494e-d256-b6083741ed91"
   },
   "outputs": [
    {
     "data": {
      "application/vnd.google.colaboratory.intrinsic+json": {
       "type": "string"
      },
      "text/plain": [
       "\"Hello ' Ibad\""
      ]
     },
     "execution_count": 12,
     "metadata": {
      "tags": []
     },
     "output_type": "execute_result"
    }
   ],
   "source": [
    "# Special characters in string\n",
    "\n",
    "'@#2_#]&*^%$'\n",
    "\n",
    "\"Hello ' Ibad\""
   ]
  },
  {
   "cell_type": "markdown",
   "metadata": {
    "id": "CHFLZRGbWklh"
   },
   "source": [
    "We can print our string using the print statement:"
   ]
  },
  {
   "cell_type": "code",
   "execution_count": null,
   "metadata": {
    "colab": {
     "base_uri": "https://localhost:8080/"
    },
    "executionInfo": {
     "elapsed": 328,
     "status": "ok",
     "timestamp": 1625651432818,
     "user": {
      "displayName": "Ibad Rather",
      "photoUrl": "https://lh3.googleusercontent.com/a-/AOh14GgrW0WL8_uTTQEvlV_IJ4oBk0MUo3vGvuZEM8Pz=s64",
      "userId": "02083681240167841387"
     },
     "user_tz": -120
    },
    "id": "27suyLT4Wkli",
    "jupyter": {
     "outputs_hidden": false
    },
    "outputId": "79e7e395-1277-4aa8-948c-bd763c69ab11"
   },
   "outputs": [
    {
     "name": "stdout",
     "output_type": "stream",
     "text": [
      "hello!\n",
      "Hello World!\n",
      "Hello! \n",
      "How are you doing?\n"
     ]
    }
   ],
   "source": [
    "# Print the string\n",
    "\n",
    "print(\"hello!\")\n",
    "print(\"Hello World!\")\n",
    "print(\"Hello! \\nHow are you doing?\")"
   ]
  },
  {
   "cell_type": "markdown",
   "metadata": {
    "id": "EMEtbNEZWkli"
   },
   "source": [
    "We can bind or assign a string to another variable:\n"
   ]
  },
  {
   "cell_type": "code",
   "execution_count": null,
   "metadata": {
    "colab": {
     "base_uri": "https://localhost:8080/",
     "height": 35
    },
    "executionInfo": {
     "elapsed": 314,
     "status": "ok",
     "timestamp": 1625651444960,
     "user": {
      "displayName": "Ibad Rather",
      "photoUrl": "https://lh3.googleusercontent.com/a-/AOh14GgrW0WL8_uTTQEvlV_IJ4oBk0MUo3vGvuZEM8Pz=s64",
      "userId": "02083681240167841387"
     },
     "user_tz": -120
    },
    "id": "5xGuAgEtWkli",
    "jupyter": {
     "outputs_hidden": false
    },
    "outputId": "768dc9a9-f739-445f-c4ac-e5ccd538c086"
   },
   "outputs": [
    {
     "data": {
      "application/vnd.google.colaboratory.intrinsic+json": {
       "type": "string"
      },
      "text/plain": [
       "'Michael Jackson'"
      ]
     },
     "execution_count": 18,
     "metadata": {
      "tags": []
     },
     "output_type": "execute_result"
    }
   ],
   "source": [
    "# Assign string to variable\n",
    "\n",
    "Name = \"Michael Jackson\"\n",
    "Name"
   ]
  },
  {
   "cell_type": "markdown",
   "metadata": {
    "id": "rRUuT7HRWkli"
   },
   "source": [
    "<hr>"
   ]
  },
  {
   "cell_type": "markdown",
   "metadata": {
    "id": "uC4kpSAmWkli"
   },
   "source": [
    "<h2 id=\"index\">Indexing</h2>"
   ]
  },
  {
   "cell_type": "markdown",
   "metadata": {
    "id": "18j0GQzzWkli"
   },
   "source": [
    "It is helpful to think of a string as an ordered sequence. Each element in the sequence can be accessed using an index represented by the array of numbers:  "
   ]
  },
  {
   "cell_type": "markdown",
   "metadata": {
    "id": "hf2t3yLuWklj"
   },
   "source": [
    "<img src=\"https://s3-api.us-geo.objectstorage.softlayer.net/cf-courses-data/CognitiveClass/PY0101EN/Chapter%201/Images/StringsIndex.png\" width=\"600\" align=\"center\" />"
   ]
  },
  {
   "cell_type": "markdown",
   "metadata": {
    "id": "ZlWEo0B-Wklj"
   },
   "source": [
    " The first index can be accessed as follows:"
   ]
  },
  {
   "cell_type": "markdown",
   "metadata": {
    "id": "bsIUCTCmWklj"
   },
   "source": [
    "<hr/>\n",
    "<div class=\"alert alert-success alertsuccess\" style=\"margin-top: 20px\">\n",
    "[Tip]: Because indexing starts at 0, it means the first index is on the index 0.\n",
    "</div>\n",
    "<hr/>"
   ]
  },
  {
   "cell_type": "code",
   "execution_count": null,
   "metadata": {
    "colab": {
     "base_uri": "https://localhost:8080/"
    },
    "executionInfo": {
     "elapsed": 339,
     "status": "ok",
     "timestamp": 1625651724725,
     "user": {
      "displayName": "Ibad Rather",
      "photoUrl": "https://lh3.googleusercontent.com/a-/AOh14GgrW0WL8_uTTQEvlV_IJ4oBk0MUo3vGvuZEM8Pz=s64",
      "userId": "02083681240167841387"
     },
     "user_tz": -120
    },
    "id": "_sJp_27XWklj",
    "jupyter": {
     "outputs_hidden": false
    },
    "outputId": "6a0f4dd0-5b17-462a-fa1f-c582d44958f7"
   },
   "outputs": [
    {
     "name": "stdout",
     "output_type": "stream",
     "text": [
      "J\n"
     ]
    }
   ],
   "source": [
    "# Print the first element in the string\n",
    "print(name[8])"
   ]
  },
  {
   "cell_type": "markdown",
   "metadata": {
    "id": "LeONdV_0Wklj"
   },
   "source": [
    " We can access index 6:"
   ]
  },
  {
   "cell_type": "code",
   "execution_count": null,
   "metadata": {
    "colab": {
     "base_uri": "https://localhost:8080/"
    },
    "executionInfo": {
     "elapsed": 300,
     "status": "ok",
     "timestamp": 1625651785012,
     "user": {
      "displayName": "Ibad Rather",
      "photoUrl": "https://lh3.googleusercontent.com/a-/AOh14GgrW0WL8_uTTQEvlV_IJ4oBk0MUo3vGvuZEM8Pz=s64",
      "userId": "02083681240167841387"
     },
     "user_tz": -120
    },
    "id": "SWGATFTXWklj",
    "jupyter": {
     "outputs_hidden": false
    },
    "outputId": "6994f74d-a490-440f-9e2b-e6117eb40c28"
   },
   "outputs": [
    {
     "name": "stdout",
     "output_type": "stream",
     "text": [
      "l\n"
     ]
    }
   ],
   "source": [
    "# Print the element on index 6 in the string\n",
    "\n",
    "print(Name[6])"
   ]
  },
  {
   "cell_type": "markdown",
   "metadata": {
    "id": "EfW2b_X3Wklj"
   },
   "source": [
    "Moreover, we can access the 13th index:"
   ]
  },
  {
   "cell_type": "code",
   "execution_count": null,
   "metadata": {
    "colab": {
     "base_uri": "https://localhost:8080/"
    },
    "executionInfo": {
     "elapsed": 286,
     "status": "ok",
     "timestamp": 1625651824963,
     "user": {
      "displayName": "Ibad Rather",
      "photoUrl": "https://lh3.googleusercontent.com/a-/AOh14GgrW0WL8_uTTQEvlV_IJ4oBk0MUo3vGvuZEM8Pz=s64",
      "userId": "02083681240167841387"
     },
     "user_tz": -120
    },
    "id": "YaDkNdbWWklk",
    "jupyter": {
     "outputs_hidden": false
    },
    "outputId": "126bba13-6386-44e3-96e6-be760a05f3ff"
   },
   "outputs": [
    {
     "name": "stdout",
     "output_type": "stream",
     "text": [
      "o\n"
     ]
    }
   ],
   "source": [
    "# Print the element on the 13th index in the string\n",
    "\n",
    "print(Name[13])"
   ]
  },
  {
   "cell_type": "markdown",
   "metadata": {
    "id": "FJvP5jUDWklk"
   },
   "source": [
    "<h3 id=\"neg\">Negative Indexing</h3>"
   ]
  },
  {
   "cell_type": "markdown",
   "metadata": {
    "id": "LhtDs_ifWklk"
   },
   "source": [
    " We can also use negative indexing with strings:"
   ]
  },
  {
   "cell_type": "markdown",
   "metadata": {
    "id": "SVLUvKdMWklk"
   },
   "source": [
    "<img src=\"https://s3-api.us-geo.objectstorage.softlayer.net/cf-courses-data/CognitiveClass/PY0101EN/Chapter%201/Images/StringsNeg.png\" width=\"600\" align=\"center\" />"
   ]
  },
  {
   "cell_type": "markdown",
   "metadata": {
    "id": "peV5rV_tWklk"
   },
   "source": [
    "Negative index can help us to count the element from the end of the string."
   ]
  },
  {
   "cell_type": "markdown",
   "metadata": {
    "id": "KBFMEeNsWklk"
   },
   "source": [
    "The last element is given by the index -1: "
   ]
  },
  {
   "cell_type": "code",
   "execution_count": null,
   "metadata": {
    "colab": {
     "base_uri": "https://localhost:8080/"
    },
    "executionInfo": {
     "elapsed": 296,
     "status": "ok",
     "timestamp": 1625651932154,
     "user": {
      "displayName": "Ibad Rather",
      "photoUrl": "https://lh3.googleusercontent.com/a-/AOh14GgrW0WL8_uTTQEvlV_IJ4oBk0MUo3vGvuZEM8Pz=s64",
      "userId": "02083681240167841387"
     },
     "user_tz": -120
    },
    "id": "jZOm1WpQWklk",
    "jupyter": {
     "outputs_hidden": false
    },
    "outputId": "ea2c05b7-43d3-4097-8e9f-221b28cd2dac"
   },
   "outputs": [
    {
     "name": "stdout",
     "output_type": "stream",
     "text": [
      "n\n"
     ]
    }
   ],
   "source": [
    "# Print the last element in the string\n",
    "print(Name[-1])"
   ]
  },
  {
   "cell_type": "markdown",
   "metadata": {
    "id": "WzMuO-6LWkll"
   },
   "source": [
    " The first element can be obtained by  index -15:"
   ]
  },
  {
   "cell_type": "code",
   "execution_count": null,
   "metadata": {
    "colab": {
     "base_uri": "https://localhost:8080/"
    },
    "executionInfo": {
     "elapsed": 292,
     "status": "ok",
     "timestamp": 1625651941310,
     "user": {
      "displayName": "Ibad Rather",
      "photoUrl": "https://lh3.googleusercontent.com/a-/AOh14GgrW0WL8_uTTQEvlV_IJ4oBk0MUo3vGvuZEM8Pz=s64",
      "userId": "02083681240167841387"
     },
     "user_tz": -120
    },
    "id": "GEKhnnLNWkll",
    "jupyter": {
     "outputs_hidden": false
    },
    "outputId": "fa8820aa-f6ab-4be4-d82c-7a2e525068e5"
   },
   "outputs": [
    {
     "name": "stdout",
     "output_type": "stream",
     "text": [
      "M\n"
     ]
    }
   ],
   "source": [
    "# Print the first element in the string\n",
    "\n",
    "print(Name[-15])"
   ]
  },
  {
   "cell_type": "markdown",
   "metadata": {
    "id": "CKEIzS69Wkll"
   },
   "source": [
    "We can find the number of characters in a string by using <code>len</code>, short for length:"
   ]
  },
  {
   "cell_type": "code",
   "execution_count": null,
   "metadata": {
    "colab": {
     "base_uri": "https://localhost:8080/"
    },
    "executionInfo": {
     "elapsed": 287,
     "status": "ok",
     "timestamp": 1625652345860,
     "user": {
      "displayName": "Ibad Rather",
      "photoUrl": "https://lh3.googleusercontent.com/a-/AOh14GgrW0WL8_uTTQEvlV_IJ4oBk0MUo3vGvuZEM8Pz=s64",
      "userId": "02083681240167841387"
     },
     "user_tz": -120
    },
    "id": "6f0gRSFrWkll",
    "jupyter": {
     "outputs_hidden": false
    },
    "outputId": "facb449c-48a0-4e44-e488-774a521ec553"
   },
   "outputs": [
    {
     "name": "stdout",
     "output_type": "stream",
     "text": [
      "t\n",
      "t\n"
     ]
    }
   ],
   "source": [
    "# Find the length of string\n",
    "len(\"Michael Jackson\")\n",
    "\n",
    "\n",
    "x = \"Can you count properly?\"\n",
    "\n",
    "print(x[12])\n",
    "print(x[-11])"
   ]
  },
  {
   "cell_type": "markdown",
   "metadata": {
    "id": "5w477VGIWkll"
   },
   "source": [
    "<h3 id=\"slice\">Slicing</h3>"
   ]
  },
  {
   "cell_type": "markdown",
   "metadata": {
    "id": "8Iog7wKoWkll"
   },
   "source": [
    "We can obtain multiple characters from a string using slicing, we can obtain the 0 to 4th and 8th to the 12th element:  "
   ]
  },
  {
   "cell_type": "markdown",
   "metadata": {
    "id": "P9O_gT_PWkll"
   },
   "source": [
    "<img src=\"https://s3-api.us-geo.objectstorage.softlayer.net/cf-courses-data/CognitiveClass/PY0101EN/Chapter%201/Images/StringsSlice.png\" width=\"600\" align=\"center\" />"
   ]
  },
  {
   "cell_type": "markdown",
   "metadata": {
    "id": "PmH2MdKOWkll"
   },
   "source": [
    "<hr/>\n",
    "<div class=\"alert alert-success alertsuccess\" style=\"margin-top: 20px\">\n",
    "[Tip]: When taking the slice, the first number means the index (start at 0), and the second number means the length from the index to the last element you want (start at 1)\n",
    "</div>\n",
    "<hr/>"
   ]
  },
  {
   "cell_type": "code",
   "execution_count": null,
   "metadata": {
    "colab": {
     "base_uri": "https://localhost:8080/"
    },
    "executionInfo": {
     "elapsed": 280,
     "status": "ok",
     "timestamp": 1625652530497,
     "user": {
      "displayName": "Ibad Rather",
      "photoUrl": "https://lh3.googleusercontent.com/a-/AOh14GgrW0WL8_uTTQEvlV_IJ4oBk0MUo3vGvuZEM8Pz=s64",
      "userId": "02083681240167841387"
     },
     "user_tz": -120
    },
    "id": "-7BP2rlPWkll",
    "jupyter": {
     "outputs_hidden": false
    },
    "outputId": "b37634a6-829f-4e05-e6fe-57584fd6ebcc"
   },
   "outputs": [
    {
     "name": "stdout",
     "output_type": "stream",
     "text": [
      "Michael\n"
     ]
    }
   ],
   "source": [
    "# Take the slice on variable Name with only index 0 to index 3\n",
    "\n",
    "print(Name[0:7])"
   ]
  },
  {
   "cell_type": "code",
   "execution_count": null,
   "metadata": {
    "colab": {
     "base_uri": "https://localhost:8080/"
    },
    "executionInfo": {
     "elapsed": 293,
     "status": "ok",
     "timestamp": 1625652695555,
     "user": {
      "displayName": "Ibad Rather",
      "photoUrl": "https://lh3.googleusercontent.com/a-/AOh14GgrW0WL8_uTTQEvlV_IJ4oBk0MUo3vGvuZEM8Pz=s64",
      "userId": "02083681240167841387"
     },
     "user_tz": -120
    },
    "id": "swf2Cbh7Wklm",
    "jupyter": {
     "outputs_hidden": false
    },
    "outputId": "628ae5a6-3362-4afa-f8dc-d9ad6759af96"
   },
   "outputs": [
    {
     "name": "stdout",
     "output_type": "stream",
     "text": [
      "J\n"
     ]
    }
   ],
   "source": [
    "# Take the slice on variable Name with only index 8 to index 11\n",
    "\n",
    "Name[8:12]\n",
    "print(Name[8:9])"
   ]
  },
  {
   "cell_type": "markdown",
   "metadata": {
    "id": "ktbveqb9Wklm"
   },
   "source": [
    "<h3 id=\"stride\">Stride</h3>"
   ]
  },
  {
   "cell_type": "markdown",
   "metadata": {
    "id": "3cYnTa6QWklm"
   },
   "source": [
    " We can also  input a stride value as follows, with the '2' indicating that we are selecting every second variable:"
   ]
  },
  {
   "cell_type": "markdown",
   "metadata": {
    "id": "JJYzGKLGWklm"
   },
   "source": [
    "<img src=\"https://s3-api.us-geo.objectstorage.softlayer.net/cf-courses-data/CognitiveClass/PY0101EN/Chapter%201/Images/StringsStride.png\" width=\"600\" align=\"center\" />"
   ]
  },
  {
   "cell_type": "code",
   "execution_count": null,
   "metadata": {
    "colab": {
     "base_uri": "https://localhost:8080/",
     "height": 35
    },
    "executionInfo": {
     "elapsed": 278,
     "status": "ok",
     "timestamp": 1625652877643,
     "user": {
      "displayName": "Ibad Rather",
      "photoUrl": "https://lh3.googleusercontent.com/a-/AOh14GgrW0WL8_uTTQEvlV_IJ4oBk0MUo3vGvuZEM8Pz=s64",
      "userId": "02083681240167841387"
     },
     "user_tz": -120
    },
    "id": "xGw64MYPWklm",
    "jupyter": {
     "outputs_hidden": false
    },
    "outputId": "88433823-7a58-44c3-c298-6399dd916138"
   },
   "outputs": [
    {
     "data": {
      "application/vnd.google.colaboratory.intrinsic+json": {
       "type": "string"
      },
      "text/plain": [
       "'Mhlas'"
      ]
     },
     "execution_count": 55,
     "metadata": {
      "tags": []
     },
     "output_type": "execute_result"
    }
   ],
   "source": [
    "# Get every second element. The elments on index 1, 3, 5 ...\n",
    "\n",
    "Name[ : :3]"
   ]
  },
  {
   "cell_type": "code",
   "execution_count": null,
   "metadata": {
    "colab": {
     "base_uri": "https://localhost:8080/"
    },
    "executionInfo": {
     "elapsed": 286,
     "status": "ok",
     "timestamp": 1625652983968,
     "user": {
      "displayName": "Ibad Rather",
      "photoUrl": "https://lh3.googleusercontent.com/a-/AOh14GgrW0WL8_uTTQEvlV_IJ4oBk0MUo3vGvuZEM8Pz=s64",
      "userId": "02083681240167841387"
     },
     "user_tz": -120
    },
    "id": "gNSVDdf5drKH",
    "outputId": "6d18694c-b5f4-4d1e-c607-2267b87b46b7"
   },
   "outputs": [
    {
     "name": "stdout",
     "output_type": "stream",
     "text": [
      "calJ\n"
     ]
    }
   ],
   "source": [
    "# What will be the output?\n",
    "print(Name[2:9:2])"
   ]
  },
  {
   "cell_type": "markdown",
   "metadata": {
    "id": "6WCUPK6tWklm"
   },
   "source": [
    "We can also incorporate slicing  with the stride. In this case, we select the first five elements and then use the stride: "
   ]
  },
  {
   "cell_type": "code",
   "execution_count": null,
   "metadata": {
    "colab": {
     "base_uri": "https://localhost:8080/",
     "height": 35
    },
    "executionInfo": {
     "elapsed": 309,
     "status": "ok",
     "timestamp": 1625653023529,
     "user": {
      "displayName": "Ibad Rather",
      "photoUrl": "https://lh3.googleusercontent.com/a-/AOh14GgrW0WL8_uTTQEvlV_IJ4oBk0MUo3vGvuZEM8Pz=s64",
      "userId": "02083681240167841387"
     },
     "user_tz": -120
    },
    "id": "ov8t7xrbWklm",
    "jupyter": {
     "outputs_hidden": false
    },
    "outputId": "f946edd2-144c-494e-da50-a81e53f6cc76"
   },
   "outputs": [
    {
     "data": {
      "application/vnd.google.colaboratory.intrinsic+json": {
       "type": "string"
      },
      "text/plain": [
       "'Mca'"
      ]
     },
     "execution_count": 57,
     "metadata": {
      "tags": []
     },
     "output_type": "execute_result"
    }
   ],
   "source": [
    "# Get every second element in the range from index 0 to index 4\n",
    "\n",
    "Name[0:5:2]"
   ]
  },
  {
   "cell_type": "markdown",
   "metadata": {
    "id": "trj3vjTkWklm"
   },
   "source": [
    "<h3 id=\"concat\">Concatenate Strings</h3>"
   ]
  },
  {
   "cell_type": "markdown",
   "metadata": {
    "id": "yJjfvmebWklm"
   },
   "source": [
    "We can concatenate or combine strings by using the addition symbols, and the result is a new string that is a combination of both:\n"
   ]
  },
  {
   "cell_type": "code",
   "execution_count": null,
   "metadata": {
    "colab": {
     "base_uri": "https://localhost:8080/"
    },
    "executionInfo": {
     "elapsed": 311,
     "status": "ok",
     "timestamp": 1625653275138,
     "user": {
      "displayName": "Ibad Rather",
      "photoUrl": "https://lh3.googleusercontent.com/a-/AOh14GgrW0WL8_uTTQEvlV_IJ4oBk0MUo3vGvuZEM8Pz=s64",
      "userId": "02083681240167841387"
     },
     "user_tz": -120
    },
    "id": "2STKsMOAWklm",
    "jupyter": {
     "outputs_hidden": false
    },
    "outputId": "7e9649fb-bd71-41f1-870b-ce95d60f4bc9"
   },
   "outputs": [
    {
     "name": "stdout",
     "output_type": "stream",
     "text": [
      "Ibad Rather \n"
     ]
    }
   ],
   "source": [
    "# Concatenate two strings\n",
    "\n",
    "Statement = Name + \" is the best\"\n",
    "Statement\n",
    "\n",
    "\n",
    "firstName = \"Ibad\"\n",
    "lastName = \"Rather\"\n",
    "\n",
    "fullName = firstName + \" \" + lastName + \" \"\n",
    "\n",
    "print(fullName)"
   ]
  },
  {
   "cell_type": "markdown",
   "metadata": {
    "id": "QJwkRmeHWkln"
   },
   "source": [
    "To replicate values of a string we simply multiply the string by the number of times we would like to replicate it. In this case, the number is three. The result is a new string, and this new string consists of three copies of the original string:"
   ]
  },
  {
   "cell_type": "code",
   "execution_count": null,
   "metadata": {
    "colab": {
     "base_uri": "https://localhost:8080/"
    },
    "executionInfo": {
     "elapsed": 301,
     "status": "ok",
     "timestamp": 1625653276802,
     "user": {
      "displayName": "Ibad Rather",
      "photoUrl": "https://lh3.googleusercontent.com/a-/AOh14GgrW0WL8_uTTQEvlV_IJ4oBk0MUo3vGvuZEM8Pz=s64",
      "userId": "02083681240167841387"
     },
     "user_tz": -120
    },
    "id": "oV72e54vWkln",
    "jupyter": {
     "outputs_hidden": false
    },
    "outputId": "d20a39ee-e310-4f1c-a00e-b347ec3ffef6"
   },
   "outputs": [
    {
     "name": "stdout",
     "output_type": "stream",
     "text": [
      "Ibad Rather Ibad Rather Ibad Rather \n"
     ]
    }
   ],
   "source": [
    "# Print the string for 3 times\n",
    "\n",
    "3 * \"Michael Jackson\"\n",
    "\n",
    "print(3 * fullName)\n",
    "\n"
   ]
  },
  {
   "cell_type": "markdown",
   "metadata": {
    "id": "_nFeh01KWkln"
   },
   "source": [
    "You can create a new string by setting it to the original variable. Concatenated  with a new string, the result is a new string that changes from Michael Jackson to “Michael Jackson is the best\".\n"
   ]
  },
  {
   "cell_type": "code",
   "execution_count": null,
   "metadata": {
    "colab": {
     "base_uri": "https://localhost:8080/",
     "height": 35
    },
    "executionInfo": {
     "elapsed": 287,
     "status": "ok",
     "timestamp": 1625653293448,
     "user": {
      "displayName": "Ibad Rather",
      "photoUrl": "https://lh3.googleusercontent.com/a-/AOh14GgrW0WL8_uTTQEvlV_IJ4oBk0MUo3vGvuZEM8Pz=s64",
      "userId": "02083681240167841387"
     },
     "user_tz": -120
    },
    "id": "6-U-ROR3Wkln",
    "jupyter": {
     "outputs_hidden": false
    },
    "outputId": "c7863355-4900-4439-9152-52e181021434"
   },
   "outputs": [
    {
     "data": {
      "application/vnd.google.colaboratory.intrinsic+json": {
       "type": "string"
      },
      "text/plain": [
       "'Michael Jackson is the best'"
      ]
     },
     "execution_count": 67,
     "metadata": {
      "tags": []
     },
     "output_type": "execute_result"
    }
   ],
   "source": [
    "# Concatenate strings\n",
    "\n",
    "Name = \"Michael Jackson\"\n",
    "Name = Name + \" is the best\"\n",
    "Name"
   ]
  },
  {
   "cell_type": "markdown",
   "metadata": {
    "id": "l2Kq7kEkWkln"
   },
   "source": [
    "<h2 id=\"escape\">Escape Sequences</h2>"
   ]
  },
  {
   "cell_type": "markdown",
   "metadata": {
    "id": "GyeMPKKVWkln"
   },
   "source": [
    "Back slashes represent the beginning  of escape sequences. Escape sequences represent strings that may be difficult to input. For example, back slash \"n\" represents a new line. The output is given by a new line after the back slash \"n\" is encountered:"
   ]
  },
  {
   "cell_type": "code",
   "execution_count": null,
   "metadata": {
    "colab": {
     "base_uri": "https://localhost:8080/"
    },
    "executionInfo": {
     "elapsed": 282,
     "status": "ok",
     "timestamp": 1625653342463,
     "user": {
      "displayName": "Ibad Rather",
      "photoUrl": "https://lh3.googleusercontent.com/a-/AOh14GgrW0WL8_uTTQEvlV_IJ4oBk0MUo3vGvuZEM8Pz=s64",
      "userId": "02083681240167841387"
     },
     "user_tz": -120
    },
    "id": "tcCPn8ZRWkln",
    "jupyter": {
     "outputs_hidden": false
    },
    "outputId": "2401651b-e47f-47ae-bcc8-b97bf198be93"
   },
   "outputs": [
    {
     "name": "stdout",
     "output_type": "stream",
     "text": [
      " Michael Jackson \n",
      " is the best\n"
     ]
    }
   ],
   "source": [
    "# New line escape sequence\n",
    "\n",
    "print(\" Michael Jackson \\n is the best\" )"
   ]
  },
  {
   "cell_type": "markdown",
   "metadata": {
    "id": "Xg0m13AWWklo"
   },
   "source": [
    "Similarly, back slash  \"t\" represents a tab: "
   ]
  },
  {
   "cell_type": "code",
   "execution_count": null,
   "metadata": {
    "colab": {
     "base_uri": "https://localhost:8080/"
    },
    "executionInfo": {
     "elapsed": 290,
     "status": "ok",
     "timestamp": 1625653377060,
     "user": {
      "displayName": "Ibad Rather",
      "photoUrl": "https://lh3.googleusercontent.com/a-/AOh14GgrW0WL8_uTTQEvlV_IJ4oBk0MUo3vGvuZEM8Pz=s64",
      "userId": "02083681240167841387"
     },
     "user_tz": -120
    },
    "id": "7efRNIHYWklo",
    "jupyter": {
     "outputs_hidden": false
    },
    "outputId": "7c885505-6e9a-4012-9152-4c10565b9140"
   },
   "outputs": [
    {
     "name": "stdout",
     "output_type": "stream",
     "text": [
      " Michael Jackson \t is the best\n"
     ]
    }
   ],
   "source": [
    "# Tab escape sequence\n",
    "\n",
    "print(\" Michael Jackson \\t is the best\" )"
   ]
  },
  {
   "cell_type": "markdown",
   "metadata": {
    "id": "G9SV0jtDWklo"
   },
   "source": [
    " If you want to place a back slash in your string, use a double back slash:"
   ]
  },
  {
   "cell_type": "code",
   "execution_count": null,
   "metadata": {
    "colab": {
     "base_uri": "https://localhost:8080/"
    },
    "executionInfo": {
     "elapsed": 288,
     "status": "ok",
     "timestamp": 1625653386210,
     "user": {
      "displayName": "Ibad Rather",
      "photoUrl": "https://lh3.googleusercontent.com/a-/AOh14GgrW0WL8_uTTQEvlV_IJ4oBk0MUo3vGvuZEM8Pz=s64",
      "userId": "02083681240167841387"
     },
     "user_tz": -120
    },
    "id": "-NXyfOkpWklo",
    "jupyter": {
     "outputs_hidden": false
    },
    "outputId": "749decfb-94bd-4c8b-ab44-ed9e49911574"
   },
   "outputs": [
    {
     "name": "stdout",
     "output_type": "stream",
     "text": [
      " Michael Jackson \\ is the best\n"
     ]
    }
   ],
   "source": [
    "# Include back slash in string\n",
    "\n",
    "print(\" Michael Jackson \\\\ is the best\" )"
   ]
  },
  {
   "cell_type": "markdown",
   "metadata": {
    "id": "qGFAy4sLWklo"
   },
   "source": [
    " We can also place an \"r\" before the string to display the backslash:"
   ]
  },
  {
   "cell_type": "code",
   "execution_count": null,
   "metadata": {
    "colab": {
     "base_uri": "https://localhost:8080/"
    },
    "executionInfo": {
     "elapsed": 293,
     "status": "ok",
     "timestamp": 1625653451157,
     "user": {
      "displayName": "Ibad Rather",
      "photoUrl": "https://lh3.googleusercontent.com/a-/AOh14GgrW0WL8_uTTQEvlV_IJ4oBk0MUo3vGvuZEM8Pz=s64",
      "userId": "02083681240167841387"
     },
     "user_tz": -120
    },
    "id": "Kp8aLohwWklo",
    "jupyter": {
     "outputs_hidden": false
    },
    "outputId": "5201f9eb-9977-4d71-d2b7-c09ddd569f80"
   },
   "outputs": [
    {
     "name": "stdout",
     "output_type": "stream",
     "text": [
      " Michael Jackson \\ is the best\n"
     ]
    }
   ],
   "source": [
    "# r will tell python that string will be display as raw string\n",
    "\n",
    "print(r\" Michael Jackson \\ is the best\" )"
   ]
  },
  {
   "cell_type": "markdown",
   "metadata": {
    "id": "46OSSjKhWklo"
   },
   "source": [
    "<h2 id=\"operations\">String Operations</h2>"
   ]
  },
  {
   "cell_type": "markdown",
   "metadata": {
    "id": "7S41iR3WWklo"
   },
   "source": [
    "There are many string operation methods in Python that can be used to manipulate the data. We are going to use some basic string operations on the data. "
   ]
  },
  {
   "cell_type": "markdown",
   "metadata": {
    "id": "iuUJPO48Wklp"
   },
   "source": [
    "Let's try with the method <code>upper</code>; this method converts lower case characters to upper case characters:"
   ]
  },
  {
   "cell_type": "code",
   "execution_count": null,
   "metadata": {
    "id": "hqy0SzSWWklp",
    "jupyter": {
     "outputs_hidden": false
    },
    "outputId": "5a050e4f-6cf6-448f-8377-82c7d8311fb4"
   },
   "outputs": [
    {
     "name": "stdout",
     "output_type": "stream",
     "text": [
      "before upper: Thriller is the sixth studio album\n",
      "After upper: THRILLER IS THE SIXTH STUDIO ALBUM\n"
     ]
    }
   ],
   "source": [
    "# Convert all the characters in string to upper case\n",
    "\n",
    "A = \"Thriller is the sixth studio album\"\n",
    "print(\"before upper:\", A)\n",
    "B = A.upper()\n",
    "print(\"After upper:\", B)"
   ]
  },
  {
   "cell_type": "code",
   "execution_count": null,
   "metadata": {
    "colab": {
     "base_uri": "https://localhost:8080/"
    },
    "executionInfo": {
     "elapsed": 375,
     "status": "ok",
     "timestamp": 1625653829242,
     "user": {
      "displayName": "Ibad Rather",
      "photoUrl": "https://lh3.googleusercontent.com/a-/AOh14GgrW0WL8_uTTQEvlV_IJ4oBk0MUo3vGvuZEM8Pz=s64",
      "userId": "02083681240167841387"
     },
     "user_tz": -120
    },
    "id": "2nQqS38Igyw1",
    "outputId": "de5795e8-0348-4362-a13b-8408f13925e0"
   },
   "outputs": [
    {
     "name": "stdout",
     "output_type": "stream",
     "text": [
      "Hello! How are you.\n",
      "HELLO! HOW ARE YOU.\n",
      "<class 'str'>\n"
     ]
    }
   ],
   "source": [
    "hello = \"Hello! How are you.\"\n",
    "print(hello)\n",
    "hello_upper = hello.upper()\n",
    "\n",
    "print(hello_upper)\n",
    "\n",
    "print(type(hello))"
   ]
  },
  {
   "cell_type": "code",
   "execution_count": 81,
   "metadata": {
    "colab": {
     "base_uri": "https://localhost:8080/"
    },
    "executionInfo": {
     "elapsed": 279,
     "status": "ok",
     "timestamp": 1625653963432,
     "user": {
      "displayName": "Ibad Rather",
      "photoUrl": "https://lh3.googleusercontent.com/a-/AOh14GgrW0WL8_uTTQEvlV_IJ4oBk0MUo3vGvuZEM8Pz=s64",
      "userId": "02083681240167841387"
     },
     "user_tz": -120
    },
    "id": "7RAitVA5ho4y",
    "outputId": "256177b8-26d0-49a6-cf62-7eb177ffd527"
   },
   "outputs": [
    {
     "name": "stdout",
     "output_type": "stream",
     "text": [
      "hello. worlddd\n"
     ]
    }
   ],
   "source": [
    "hello = \"HELLo. WorldDD\"\n",
    "\n",
    "print(hello.lower())"
   ]
  },
  {
   "cell_type": "markdown",
   "metadata": {
    "id": "_DNOSINOWklp"
   },
   "source": [
    "The method <code>replace</code> replaces a segment of the string, i.e. a substring  with a new string. We input the part of the string we would like to change. The second argument is what we would like to exchange the segment with, and the result is a new string with the segment changed: \n"
   ]
  },
  {
   "cell_type": "code",
   "execution_count": 83,
   "metadata": {
    "colab": {
     "base_uri": "https://localhost:8080/",
     "height": 35
    },
    "executionInfo": {
     "elapsed": 300,
     "status": "ok",
     "timestamp": 1625654010690,
     "user": {
      "displayName": "Ibad Rather",
      "photoUrl": "https://lh3.googleusercontent.com/a-/AOh14GgrW0WL8_uTTQEvlV_IJ4oBk0MUo3vGvuZEM8Pz=s64",
      "userId": "02083681240167841387"
     },
     "user_tz": -120
    },
    "id": "fwo-vVq9Wklp",
    "jupyter": {
     "outputs_hidden": false
    },
    "outputId": "abcd6033-5845-4984-b81b-da9c774bf62b"
   },
   "outputs": [
    {
     "data": {
      "application/vnd.google.colaboratory.intrinsic+json": {
       "type": "string"
      },
      "text/plain": [
       "'Janet Jackson is the best'"
      ]
     },
     "execution_count": 83,
     "metadata": {
      "tags": []
     },
     "output_type": "execute_result"
    }
   ],
   "source": [
    "# Replace the old substring with the new target substring is the segment has been found in the string\n",
    "\n",
    "A = \"Michael Jackson is the best\"\n",
    "B = A.replace('Michael', 'Janet')\n",
    "B"
   ]
  },
  {
   "cell_type": "code",
   "execution_count": 86,
   "metadata": {
    "colab": {
     "base_uri": "https://localhost:8080/"
    },
    "executionInfo": {
     "elapsed": 312,
     "status": "ok",
     "timestamp": 1625654141216,
     "user": {
      "displayName": "Ibad Rather",
      "photoUrl": "https://lh3.googleusercontent.com/a-/AOh14GgrW0WL8_uTTQEvlV_IJ4oBk0MUo3vGvuZEM8Pz=s64",
      "userId": "02083681240167841387"
     },
     "user_tz": -120
    },
    "id": "3WiHfl72hyTt",
    "outputId": "04659ace-5be9-4ed9-ee32-66d39753699c"
   },
   "outputs": [
    {
     "name": "stdout",
     "output_type": "stream",
     "text": [
      "please write your name\n",
      "please write your address\n"
     ]
    }
   ],
   "source": [
    "x = \"please write your name\"\n",
    "y = x.replace(\"name\", \"address\")\n",
    "print(x)\n",
    "print(y)"
   ]
  },
  {
   "cell_type": "markdown",
   "metadata": {
    "id": "t3mOY2Z5Wklp"
   },
   "source": [
    "The method <code>find</code> finds a sub-string. The argument is the substring you would like to find, and the output is the first index of the sequence. We can find the sub-string <code>jack</code> or <code>el<code>.  "
   ]
  },
  {
   "cell_type": "markdown",
   "metadata": {
    "id": "Aosf6MD3Wklp"
   },
   "source": [
    "<img src=\"https://s3-api.us-geo.objectstorage.softlayer.net/cf-courses-data/CognitiveClass/PY0101EN/Chapter%201/Images/StringsFind.png\" width=\"600\" align=\"center\" />"
   ]
  },
  {
   "cell_type": "code",
   "execution_count": 87,
   "metadata": {
    "colab": {
     "base_uri": "https://localhost:8080/"
    },
    "executionInfo": {
     "elapsed": 302,
     "status": "ok",
     "timestamp": 1625654180283,
     "user": {
      "displayName": "Ibad Rather",
      "photoUrl": "https://lh3.googleusercontent.com/a-/AOh14GgrW0WL8_uTTQEvlV_IJ4oBk0MUo3vGvuZEM8Pz=s64",
      "userId": "02083681240167841387"
     },
     "user_tz": -120
    },
    "id": "nbcgjFBuWklp",
    "jupyter": {
     "outputs_hidden": false
    },
    "outputId": "6708dcf2-ecae-4202-97ac-5a4412be43d4"
   },
   "outputs": [
    {
     "data": {
      "text/plain": [
       "5"
      ]
     },
     "execution_count": 87,
     "metadata": {
      "tags": []
     },
     "output_type": "execute_result"
    }
   ],
   "source": [
    "# Find the substring in the string. Only the index of the first elment of substring in string will be the output\n",
    "\n",
    "Name = \"Michael Jackson\"\n",
    "Name.find('el')"
   ]
  },
  {
   "cell_type": "code",
   "execution_count": 89,
   "metadata": {
    "colab": {
     "base_uri": "https://localhost:8080/"
    },
    "executionInfo": {
     "elapsed": 1368,
     "status": "ok",
     "timestamp": 1625654286358,
     "user": {
      "displayName": "Ibad Rather",
      "photoUrl": "https://lh3.googleusercontent.com/a-/AOh14GgrW0WL8_uTTQEvlV_IJ4oBk0MUo3vGvuZEM8Pz=s64",
      "userId": "02083681240167841387"
     },
     "user_tz": -120
    },
    "id": "cOiJG9YJik5n",
    "outputId": "dd48ae1b-e35c-4e94-b3df-b58d5bcba7cc"
   },
   "outputs": [
    {
     "name": "stdout",
     "output_type": "stream",
     "text": [
      "I\n",
      "18\n"
     ]
    }
   ],
   "source": [
    "hello = \"Hello! My name is Ibad\"\n",
    "\n",
    "print(hello[18])\n",
    "\n",
    "print(hello.find(\"Ibad\"))"
   ]
  },
  {
   "cell_type": "code",
   "execution_count": 90,
   "metadata": {
    "colab": {
     "base_uri": "https://localhost:8080/"
    },
    "executionInfo": {
     "elapsed": 284,
     "status": "ok",
     "timestamp": 1625654326508,
     "user": {
      "displayName": "Ibad Rather",
      "photoUrl": "https://lh3.googleusercontent.com/a-/AOh14GgrW0WL8_uTTQEvlV_IJ4oBk0MUo3vGvuZEM8Pz=s64",
      "userId": "02083681240167841387"
     },
     "user_tz": -120
    },
    "id": "-te3dY4DWklp",
    "jupyter": {
     "outputs_hidden": false
    },
    "outputId": "bba67222-adcc-47c5-cf32-c93e04d0095f"
   },
   "outputs": [
    {
     "data": {
      "text/plain": [
       "8"
      ]
     },
     "execution_count": 90,
     "metadata": {
      "tags": []
     },
     "output_type": "execute_result"
    }
   ],
   "source": [
    "# Find the substring in the string.\n",
    "\n",
    "Name.find('Jack')"
   ]
  },
  {
   "cell_type": "markdown",
   "metadata": {
    "id": "oX7BIodDWklp"
   },
   "source": [
    "If the  sub-string is not in the string then the output is a negative one. For example, the string 'Jasdfasdasdf' is not a substring:"
   ]
  },
  {
   "cell_type": "code",
   "execution_count": 96,
   "metadata": {
    "colab": {
     "base_uri": "https://localhost:8080/"
    },
    "executionInfo": {
     "elapsed": 277,
     "status": "ok",
     "timestamp": 1625654511698,
     "user": {
      "displayName": "Ibad Rather",
      "photoUrl": "https://lh3.googleusercontent.com/a-/AOh14GgrW0WL8_uTTQEvlV_IJ4oBk0MUo3vGvuZEM8Pz=s64",
      "userId": "02083681240167841387"
     },
     "user_tz": -120
    },
    "id": "G_GOyEq9Wklp",
    "outputId": "ec4c2068-7da5-4669-fc57-b8476d96adec"
   },
   "outputs": [
    {
     "name": "stdout",
     "output_type": "stream",
     "text": [
      "Not Found\n"
     ]
    }
   ],
   "source": [
    "# If cannot find the substring in the string\n",
    "\n",
    "Name.find('Jasdfasdasdf')\n",
    "\n",
    "hello = \"hello. My name is Ibad\"\n",
    "\n",
    "isPresent = hello.find(\"Ashish\")\n",
    "\n",
    "if isPresent == -1:\n",
    "  print(\"Not Found\")\n",
    "else:\n",
    "  print(\"Found\")"
   ]
  },
  {
   "cell_type": "markdown",
   "metadata": {
    "id": "xwWMc5KZWklq"
   },
   "source": [
    "<hr>"
   ]
  },
  {
   "cell_type": "markdown",
   "metadata": {
    "id": "BD7-SksEWklq"
   },
   "source": [
    "<h2 id=\"quiz\">Quiz on Strings</h2>"
   ]
  },
  {
   "cell_type": "markdown",
   "metadata": {
    "id": "P641JsGNWklq"
   },
   "source": [
    "What is the value of the variable <code>A</code> after the following code is executed? "
   ]
  },
  {
   "cell_type": "code",
   "execution_count": null,
   "metadata": {
    "id": "L7hSZoKlWklq",
    "outputId": "49635b0c-a1ae-4a24-8300-c81ecce58d90"
   },
   "outputs": [
    {
     "name": "stdout",
     "output_type": "stream",
     "text": [
      "1\n"
     ]
    }
   ],
   "source": [
    "# Write your code below and press Shift+Enter to execute \n",
    "\n",
    "A = \"1\"\n",
    "print(A)"
   ]
  },
  {
   "cell_type": "markdown",
   "metadata": {
    "id": "G7jAnHrTWklq"
   },
   "source": [
    "Double-click <b>here</b> for the solution.\n",
    "\n",
    "<!-- Your answer is below:\n",
    "\"1\"\n",
    "-->"
   ]
  },
  {
   "cell_type": "markdown",
   "metadata": {
    "id": "G_8ylD5lWklq"
   },
   "source": [
    "What is the value of the variable <code>B</code> after the following code is executed?"
   ]
  },
  {
   "cell_type": "code",
   "execution_count": null,
   "metadata": {
    "id": "t3-xwCgGWklq",
    "outputId": "d38f8b2a-7a43-4a0b-d8f3-fdfcee0549d5"
   },
   "outputs": [
    {
     "name": "stdout",
     "output_type": "stream",
     "text": [
      "2\n"
     ]
    }
   ],
   "source": [
    "# Write your code below and press Shift+Enter to execute\n",
    "\n",
    "B = \"2\"\n",
    "print(B)"
   ]
  },
  {
   "cell_type": "markdown",
   "metadata": {
    "id": "2ptItRspWklq"
   },
   "source": [
    "Double-click <b>here</b> for the solution.\n",
    "\n",
    "<!-- Your answer is below:\n",
    "\"2\"\n",
    "-->"
   ]
  },
  {
   "cell_type": "markdown",
   "metadata": {
    "id": "edeOLZyWWklq"
   },
   "source": [
    "What is the value of the variable <code>C</code> after the following code is executed?"
   ]
  },
  {
   "cell_type": "code",
   "execution_count": null,
   "metadata": {
    "id": "7WCWQfFNWklq",
    "jupyter": {
     "outputs_hidden": false
    },
    "outputId": "9fd024e0-7300-4f73-fcdb-231be8af452e"
   },
   "outputs": [
    {
     "name": "stdout",
     "output_type": "stream",
     "text": [
      "12\n"
     ]
    }
   ],
   "source": [
    "# Write your code below and press Shift+Enter to execute \n",
    "\n",
    "C = A + B\n",
    "print(C)"
   ]
  },
  {
   "cell_type": "markdown",
   "metadata": {
    "id": "2gMtCajcWklq"
   },
   "source": [
    "Double-click <b>here</b> for the solution.\n",
    "\n",
    "<!-- Your answer is below:\n",
    "\"12\"\n",
    "-->"
   ]
  },
  {
   "cell_type": "markdown",
   "metadata": {
    "id": "jIh_OH30Wklr"
   },
   "source": [
    "<hr>"
   ]
  },
  {
   "cell_type": "markdown",
   "metadata": {
    "id": "b6RGxW81Wklr"
   },
   "source": [
    "Consider the variable <code>D</code> use slicing to print out the first three elements:"
   ]
  },
  {
   "cell_type": "code",
   "execution_count": null,
   "metadata": {
    "id": "0jj2CkWaWklr",
    "jupyter": {
     "outputs_hidden": false
    },
    "outputId": "3501e1a2-27d4-4e3c-80bb-374643cfce23"
   },
   "outputs": [
    {
     "name": "stdout",
     "output_type": "stream",
     "text": [
      "ABCDEFG\n"
     ]
    }
   ],
   "source": [
    "# Write your code below and press Shift+Enter to execute\n",
    "\n",
    "D = \"ABCDEFG\"\n",
    "print(D)"
   ]
  },
  {
   "cell_type": "markdown",
   "metadata": {
    "id": "1DzXJgO0Wklr"
   },
   "source": [
    "Double-click <b>here</b> for the solution.\n",
    "\n",
    "<!-- Your answer is below:\n",
    "print(D[:3]) \n",
    "# or \n",
    "print(D[0:3])\n",
    "-->"
   ]
  },
  {
   "cell_type": "markdown",
   "metadata": {
    "id": "yfwh2oqwWklr"
   },
   "source": [
    "<hr>"
   ]
  },
  {
   "cell_type": "markdown",
   "metadata": {
    "id": "Wwufpu97Wklr"
   },
   "source": [
    "Use a stride value of 2 to print out every second character of the string <code>E</code>: "
   ]
  },
  {
   "cell_type": "code",
   "execution_count": null,
   "metadata": {
    "id": "Qd16UiLJWklr",
    "outputId": "28c1b6e1-6fb8-4f76-8416-e9788d364957"
   },
   "outputs": [
    {
     "name": "stdout",
     "output_type": "stream",
     "text": [
      "correct\n"
     ]
    }
   ],
   "source": [
    "# Write your code below and press Shift+Enter to execute\n",
    "\n",
    "E = 'clocrkr1e1c1t'\n",
    "print(E[::2])"
   ]
  },
  {
   "cell_type": "markdown",
   "metadata": {
    "id": "P7-0X8YLWklr"
   },
   "source": [
    "Double-click <b>here</b> for the solution.\n",
    "\n",
    "<!-- Your answer is below:\n",
    "print(E[::2])\n",
    "-->"
   ]
  },
  {
   "cell_type": "markdown",
   "metadata": {
    "id": "4b04MwQWWklr"
   },
   "source": [
    "<hr>"
   ]
  },
  {
   "cell_type": "markdown",
   "metadata": {
    "id": "ymkns2V9Wkls"
   },
   "source": [
    "Print out a backslash:"
   ]
  },
  {
   "cell_type": "code",
   "execution_count": null,
   "metadata": {
    "id": "x2CRXKQoWkls",
    "jupyter": {
     "outputs_hidden": false
    },
    "outputId": "5c442f95-b9eb-40de-d99a-9e552f89eb9f"
   },
   "outputs": [
    {
     "ename": "SyntaxError",
     "evalue": "EOL while scanning string literal (<ipython-input-56-ea2c39102b5b>, line 2)",
     "output_type": "error",
     "traceback": [
      "\u001b[0;36m  File \u001b[0;32m\"<ipython-input-56-ea2c39102b5b>\"\u001b[0;36m, line \u001b[0;32m2\u001b[0m\n\u001b[0;31m    print(r'\\')\u001b[0m\n\u001b[0m               ^\u001b[0m\n\u001b[0;31mSyntaxError\u001b[0m\u001b[0;31m:\u001b[0m EOL while scanning string literal\n"
     ]
    }
   ],
   "source": [
    "#print(\"\\\\\")\n",
    "print(r'\\')"
   ]
  },
  {
   "cell_type": "markdown",
   "metadata": {
    "id": "JpKOc6kiWkls"
   },
   "source": [
    "Double-click <b>here</b> for the solution.\n",
    "<!-- Your answer is below:\n",
    "print(\"\\\\\")\n",
    "or\n",
    "print(r\" \\ \")\n",
    "-->"
   ]
  },
  {
   "cell_type": "markdown",
   "metadata": {
    "id": "EjfmPPGQWkls"
   },
   "source": [
    "<hr>"
   ]
  },
  {
   "cell_type": "markdown",
   "metadata": {
    "id": "dxyEUaC0Wkls"
   },
   "source": [
    "Convert the variable <code>F</code> to uppercase:"
   ]
  },
  {
   "cell_type": "code",
   "execution_count": null,
   "metadata": {
    "id": "Bej5Ng9CWkls",
    "jupyter": {
     "outputs_hidden": false
    },
    "outputId": "f74dd357-4e38-4227-f9b5-75c525479e15"
   },
   "outputs": [
    {
     "name": "stdout",
     "output_type": "stream",
     "text": [
      "YOU ARE WRONG\n"
     ]
    }
   ],
   "source": [
    "# Write your code below and press Shift+Enter to execute\n",
    "\n",
    "F = \"You are wrong\"\n",
    "print(F.upper())"
   ]
  },
  {
   "cell_type": "markdown",
   "metadata": {
    "id": "2lbvnEfqWkls"
   },
   "source": [
    "Double-click <b>here</b> for the solution.\n",
    "\n",
    "<!-- Your answer is below:\n",
    "F.upper()\n",
    "-->"
   ]
  },
  {
   "cell_type": "markdown",
   "metadata": {
    "id": "BSlW_3xIWkls"
   },
   "source": [
    "<hr>"
   ]
  },
  {
   "cell_type": "markdown",
   "metadata": {
    "id": "_CAPpzG8Wkls"
   },
   "source": [
    "Consider the variable <code>G</code>, and find the first index of the sub-string <code>snow</code>:"
   ]
  },
  {
   "cell_type": "code",
   "execution_count": null,
   "metadata": {
    "id": "zk2L_imZWkls",
    "jupyter": {
     "outputs_hidden": false
    },
    "outputId": "7aea9635-9cfb-4165-d12f-fc9337126eba"
   },
   "outputs": [
    {
     "name": "stdout",
     "output_type": "stream",
     "text": [
      "95\n"
     ]
    }
   ],
   "source": [
    "# Write your code below and press Shift+Enter to execute\n",
    "\n",
    "G = \"Mary had a little lamb Little lamb, little lamb Mary had a little lamb \\\n",
    "Its fleece was white as snow And everywhere that Mary went Mary went, Mary went \\\n",
    "Everywhere that Mary went The lamb was sure to go\"\n",
    "print(G.find('snow'))"
   ]
  },
  {
   "cell_type": "markdown",
   "metadata": {
    "id": "FirFjtMNWkls"
   },
   "source": [
    "Double-click __here__ for the solution.\n",
    "\n",
    "<!-- Your answer is below:\n",
    "G.find(\"snow\")\n",
    "-->"
   ]
  },
  {
   "cell_type": "markdown",
   "metadata": {
    "id": "X8LFibslWklt"
   },
   "source": [
    "In the variable <code>G</code>, replace the sub-string <code>Mary</code> with <code>Bob</code>:"
   ]
  },
  {
   "cell_type": "code",
   "execution_count": null,
   "metadata": {
    "id": "tB-IV1eAWklt",
    "jupyter": {
     "outputs_hidden": false
    },
    "outputId": "35401e0a-356e-44fd-810a-a55d6c17c16f"
   },
   "outputs": [
    {
     "name": "stdout",
     "output_type": "stream",
     "text": [
      "Bob had a little lamb Little lamb, little lamb Bob had a little lamb Its fleece was white as snow And everywhere that Bob went Bob went, Bob went Everywhere that Bob went The lamb was sure to go\n"
     ]
    }
   ],
   "source": [
    "print(G.replace('Mary', 'Bob'))"
   ]
  },
  {
   "cell_type": "code",
   "execution_count": 103,
   "metadata": {
    "colab": {
     "base_uri": "https://localhost:8080/"
    },
    "executionInfo": {
     "elapsed": 291,
     "status": "ok",
     "timestamp": 1625655286838,
     "user": {
      "displayName": "Ibad Rather",
      "photoUrl": "https://lh3.googleusercontent.com/a-/AOh14GgrW0WL8_uTTQEvlV_IJ4oBk0MUo3vGvuZEM8Pz=s64",
      "userId": "02083681240167841387"
     },
     "user_tz": -120
    },
    "id": "yuRTHh6tlj7F",
    "outputId": "4c59975a-f5ea-412b-e210-139654bdab3d"
   },
   "outputs": [
    {
     "name": "stdout",
     "output_type": "stream",
     "text": [
      "Hello  How  are  You?\n"
     ]
    }
   ],
   "source": [
    "hello = \"Hello 123 How 456 are 888 You?\"\n",
    "\n",
    "hello2 = \"\"\n",
    "for char in hello:\n",
    "  if char.isnumeric():\n",
    "    pass\n",
    "  else:\n",
    "    hello2 = hello2 + char\n",
    "\n",
    "print(hello2)"
   ]
  },
  {
   "cell_type": "markdown",
   "metadata": {
    "id": "9D8jCFxLWklt"
   },
   "source": [
    "Double-click __here__ for the solution.\n",
    "\n",
    "<!-- Your answer is below:\n",
    "G.replace(\"Mary\", \"Bob\")\n",
    "-->"
   ]
  }
 ],
 "metadata": {
  "colab": {
   "name": "3 Strings.ipynb",
   "provenance": []
  },
  "kernelspec": {
   "display_name": "Python 3",
   "language": "python",
   "name": "python3"
  },
  "language_info": {
   "codemirror_mode": {
    "name": "ipython",
    "version": 3
   },
   "file_extension": ".py",
   "mimetype": "text/x-python",
   "name": "python",
   "nbconvert_exporter": "python",
   "pygments_lexer": "ipython3",
   "version": "3.8.3"
  }
 },
 "nbformat": 4,
 "nbformat_minor": 1
}
